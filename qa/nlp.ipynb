{
 "cells": [
  {
   "cell_type": "code",
   "execution_count": null,
   "metadata": {},
   "outputs": [],
   "source": [
    "from google.colab import drive\n",
    "drive.mount('/content/drive')"
   ]
  },
  {
   "cell_type": "code",
   "execution_count": null,
   "metadata": {},
   "outputs": [],
   "source": [
    "!export ROOT_DIR=/content/drive/MyDrive/ml\n",
    "!export SQUAD_DIR=${ROOT_DIR}/squad\n",
    "!export INPUT_DATA_DIR=${SQUAD_DIR}\n",
    "!export OUTPUT_DIR=gs://some_bucket/my_output_dir\n",
    "!export BERT_DIR = \"gs://cloud-tpu-checkpoints/bert/v3/uncased_L-12_H-768_A-12\"\n",
    "\n",
    "\n",
    "# See the following link for more pre-trained checkpoints:\n",
    "# https://github.com/tensorflow/models/blob/master/official/nlp/docs/pretrained_models.md\n",
    "\n",
    "\n",
    "# Override the configurations by FLAGS. Alternatively, you can directly edit\n",
    "# `configs/experiments/squad_v1.1.yaml` to specify corresponding fields.\n",
    "# Also note that the training data is the pre-processed tf_record file, while\n",
    "# the validation file is the raw json file.\n",
    "!export PARAMS=task.train_data.input_path=$INPUT_DATA_DIR/train.tf_record\n",
    "!export PARAMS=$PARAMS,task.validation_data.input_path=$SQUAD_DIR/dev-v2.0.json\n",
    "!export PARAMS=$PARAMS,task.validation_data.vocab_file=$BERT_DIR/vocab.txt\n",
    "!export PARAMS=$PARAMS,task.init_checkpoint=$BERT_DIR/bert_model.ckpt\n",
    "#!export PARAMS=$PARAMS,runtime.distribution_strategy=tpu"
   ]
  },
  {
   "cell_type": "code",
   "execution_count": null,
   "metadata": {},
   "outputs": [],
   "source": [
    "!cd /content/drive/MyDrive/ml\n",
    "!pwd"
   ]
  },
  {
   "cell_type": "code",
   "execution_count": null,
   "metadata": {},
   "outputs": [],
   "source": [
    "!python3 train.py \\\n",
    " --experiment=bert/squad \\\n",
    " --mode=train_and_eval \\\n",
    " --model_dir=$OUTPUT_DIR \\\n",
    " --config_file=configs/models/bert_en_uncased_base.yaml \\\n",
    " --config_file=configs/experiments/squad_v1.1.yaml \\\n",
    " --params_override=$PARAMS"
   ]
  }
 ],
 "metadata": {
  "language_info": {
   "name": "python"
  },
  "orig_nbformat": 4
 },
 "nbformat": 4,
 "nbformat_minor": 2
}
