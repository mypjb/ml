{
 "cells": [
  {
   "cell_type": "code",
   "execution_count": null,
   "metadata": {},
   "outputs": [],
   "source": [
    "from google.colab import drive\n",
    "drive.mount('/content/drive')"
   ]
  },
  {
   "cell_type": "code",
   "execution_count": null,
   "metadata": {},
   "outputs": [],
   "source": [
    "ROOT_DIR=\"/content/drive/MyDrive/ml\"\n",
    "SQUAD_DIR=F\"{ROOT_DIR}/squad\"\n",
    "INPUT_DATA_DIR=SQUAD_DIR\n",
    "OUTPUT_DIR=F\"{ROOT_DIR}/output\"\n",
    "BERT_DIR=\"gs://cloud-tpu-checkpoints/bert/v3/uncased_L-12_H-768_A-12\"\n",
    "\n",
    "\n",
    "# See the following link for more pre-trained checkpoints:\n",
    "# https://github.com/tensorflow/models/blob/master/official/nlp/docs/pretrained_models.md\n",
    "\n",
    "\n",
    "# Override the configurations by FLAGS. Alternatively, you can directly edit\n",
    "# `configs/experiments/squad_v1.1.yaml` to specify corresponding fields.\n",
    "# Also note that the training data is the pre-processed tf_record file, while\n",
    "# the validation file is the raw json file.\n",
    "PARAMS=F\"task.train_data.input_path={INPUT_DATA_DIR}/train_v2.0.tf_record\"\n",
    "PARAMS=F\"{PARAMS},task.validation_data.input_path={SQUAD_DIR}/dev-v2.0.json\"\n",
    "PARAMS=F\"{PARAMS},task.validation_data.vocab_file={BERT_DIR}/vocab.txt\"\n",
    "PARAMS=F\"{PARAMS},task.init_checkpoint={BERT_DIR}/bert_model.ckpt\""
   ]
  },
  {
   "cell_type": "code",
   "execution_count": null,
   "metadata": {},
   "outputs": [],
   "source": [
    "!pip install tf-models-official"
   ]
  },
  {
   "cell_type": "code",
   "execution_count": null,
   "metadata": {},
   "outputs": [],
   "source": [
    "import os\n",
    "\n",
    "os.chdir(F\"{ROOT_DIR}/models/official/nlp\")\n",
    "\n",
    "command = F\"python3 train.py --experiment=bert/squad --mode=train_and_eval --model_dir={OUTPUT_DIR} --config_file=configs/models/bert_en_uncased_base.yaml --config_file=configs/experiments/squad_v1.yaml --params_override={PARAMS}\"\n",
    "\n",
    "print(command)"
   ]
  },
  {
   "cell_type": "code",
   "execution_count": null,
   "metadata": {},
   "outputs": [],
   "source": [
    "!python3 train.py \\\n",
    "    --experiment=bert/squad \\\n",
    "    --mode=train_and_eval \\\n",
    "    --model_dir=/content/drive/MyDrive/ml/output \\\n",
    "    --config_file=configs/models/bert_en_uncased_base.yaml \\\n",
    "    --config_file=configs/experiments/squad_v1.yaml \\\n",
    "    --params_override=task.train_data.input_path=/content/drive/MyDrive/ml/squad/train_v2.0.tf_record,task.validation_data.input_path=/content/drive/MyDrive/ml/squad/dev-v2.0.json,task.validation_data.vocab_file=gs://cloud-tpu-checkpoints/bert/v3/uncased_L-12_H-768_A-12/vocab.txt,task.init_checkpoint=gs://cloud-tpu-checkpoints/bert/v3/uncased_L-12_H-768_A-12/bert_model.ckpt"
   ]
  }
 ],
 "metadata": {
  "language_info": {
   "name": "python"
  },
  "orig_nbformat": 4
 },
 "nbformat": 4,
 "nbformat_minor": 2
}
