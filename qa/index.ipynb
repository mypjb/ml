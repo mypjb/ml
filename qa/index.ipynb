{
 "cells": [
  {
   "cell_type": "code",
   "execution_count": null,
   "metadata": {},
   "outputs": [],
   "source": [
    "!pip install opencv-python tf-models-official \"tensorflow-text==2.9.*\""
   ]
  },
  {
   "cell_type": "code",
   "execution_count": null,
   "metadata": {},
   "outputs": [],
   "source": [
    "import os\n",
    "import numpy as np\n",
    "import tensorflow as tf\n",
    "from tensorflow_models import nlp\n",
    "from keras import metrics, layers, optimizers, losses, Model\n",
    "from keras.utils import plot_model\n",
    "import json"
   ]
  },
  {
   "cell_type": "code",
   "execution_count": null,
   "metadata": {},
   "outputs": [],
   "source": [
    "gs_folder_bert = \"gs://cloud-tpu-checkpoints/bert/v3/uncased_L-12_H-768_A-12\"\n",
    "tf.io.gfile.listdir(gs_folder_bert)"
   ]
  },
  {
   "cell_type": "code",
   "execution_count": null,
   "metadata": {},
   "outputs": [],
   "source": [
    "!mkdir -p squad\n",
    "!curl -o squad/train-v2.0.json https://rajpurkar.github.io/SQuAD-explorer/dataset/train-v2.0.json\n",
    "!curl -o squad/dev-v2.0.json https://rajpurkar.github.io/SQuAD-explorer/dataset/dev-v2.0.json"
   ]
  },
  {
   "cell_type": "code",
   "execution_count": null,
   "metadata": {},
   "outputs": [],
   "source": [
    "!git clone https://github.com/tensorflow/models.git"
   ]
  },
  {
   "cell_type": "code",
   "execution_count": null,
   "metadata": {},
   "outputs": [],
   "source": [
    "!python3 models/official/nlp/data/create_finetuning_data.py \\\n",
    " --squad_data_file=/content/squad/train-v2.0.json \\\n",
    " --vocab_file=gs://cloud-tpu-checkpoints/bert/v3/uncased_L-12_H-768_A-12/vocab.txt \\\n",
    " --train_data_output_path=/content/squad/train_v2.0.tf_record \\\n",
    " --meta_data_file_path=/content/squad/squad_v2.0_meta_data \\\n",
    " --fine_tuning_task_type=squad \\\n",
    " --max_seq_length=384 \\\n",
    " --version_2_with_negative=True"
   ]
  },
  {
   "cell_type": "code",
   "execution_count": null,
   "metadata": {},
   "outputs": [],
   "source": [
    "database_dir = \"squad\"\n",
    "bert_dir = database_dir+\"/bert_base\"\n",
    "squad_version = \"v2.0\"\n",
    "squad_dir = database_dir+\"/squad\"\n",
    "max_seq_length = 384\n",
    "train_batch_size = 10\n",
    "\n",
    "raw_dataset = tf.data.TFRecordDataset([os.path.join(\n",
    "    squad_dir, f\"train_{squad_version}.tf_record\")])"
   ]
  }
 ],
 "metadata": {
  "language_info": {
   "name": "python"
  },
  "orig_nbformat": 4
 },
 "nbformat": 4,
 "nbformat_minor": 2
}
